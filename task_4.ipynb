{
  "cells": [
    {
      "cell_type": "code",
      "execution_count": 2,
      "metadata": {
        "id": "hWC7E4fdrO6s"
      },
      "outputs": [],
      "source": [
        "import tensorflow as tf\n",
        "import numpy as np"
      ]
    },
    {
      "cell_type": "code",
      "execution_count": 3,
      "metadata": {
        "id": "eQBdqMVN_Uum"
      },
      "outputs": [],
      "source": [
        "import keras\n",
        "from keras.models import Sequential"
      ]
    },
    {
      "cell_type": "code",
      "execution_count": 4,
      "metadata": {
        "id": "oV5zoQsSBPrS"
      },
      "outputs": [],
      "source": [
        "fashion_mnist=keras.datasets.fashion_mnist"
      ]
    },
    {
      "cell_type": "code",
      "execution_count": 5,
      "metadata": {
        "id": "rNU5MEXl_Zvl"
      },
      "outputs": [],
      "source": [
        "#only model building part\n",
        "model=Sequential()\n",
        "model_part1=tf.keras.applications.ResNet50(\n",
        "    include_top=False, #deletes the outer layer\n",
        "    weights=\"imagenet\",\n",
        "    input_tensor=None,\n",
        "    input_shape=(32,32,3), #according to X_train however check instructions on the page before use\n",
        "    pooling='avg', #not required but preferred\n",
        "    classes=2,#according to yoour need\n",
        "  \n",
        ")\n",
        "for layer in model_part1.layers:\n",
        "    layer.trainable=False"
      ]
    },
    {
      "cell_type": "code",
      "execution_count": 6,
      "metadata": {
        "id": "aYMdenjG_ciF"
      },
      "outputs": [],
      "source": [
        "from keras.layers import Flatten,Dense"
      ]
    },
    {
      "cell_type": "code",
      "execution_count": 7,
      "metadata": {
        "id": "UBBQeEs8A-KW"
      },
      "outputs": [],
      "source": [
        "model.add(model_part1)"
      ]
    },
    {
      "cell_type": "code",
      "execution_count": 8,
      "metadata": {
        "id": "Cq6D5Qy3Af7L"
      },
      "outputs": [],
      "source": [
        "model.add(Flatten())\n",
        "model.add(Dense(512,activation='relu'))\n",
        "model.add(Dense(3,activation='softmax'))"
      ]
    },
    {
      "cell_type": "code",
      "execution_count": 9,
      "metadata": {
        "id": "UIhbcl1eBy6j"
      },
      "outputs": [],
      "source": [
        "(X_train,Y_train),(X_test,Y_test)=fashion_mnist.load_data()"
      ]
    },
    {
      "cell_type": "code",
      "execution_count": 10,
      "metadata": {
        "colab": {
          "base_uri": "https://localhost:8080/"
        },
        "id": "0AZnit7eCPD1",
        "outputId": "65b91500-6c55-44f1-a339-c1cd03a84e59"
      },
      "outputs": [
        {
          "output_type": "execute_result",
          "data": {
            "text/plain": [
              "(60000, 28, 28)"
            ]
          },
          "metadata": {},
          "execution_count": 10
        }
      ],
      "source": [
        "X_train.shape"
      ]
    },
    {
      "cell_type": "code",
      "execution_count": 11,
      "metadata": {
        "id": "MfFKe4vuGlK8"
      },
      "outputs": [],
      "source": [
        "#X_train = np.expand_dims(X_train, -1)\n",
        "#X_test = np.expand_dims(X_test, -1)"
      ]
    },
    {
      "cell_type": "code",
      "execution_count": 12,
      "metadata": {
        "colab": {
          "base_uri": "https://localhost:8080/"
        },
        "id": "U_ilMth8C_oc",
        "outputId": "7976cec5-d373-461e-a976-a84ba14f75d5"
      },
      "outputs": [
        {
          "output_type": "execute_result",
          "data": {
            "text/plain": [
              "(28, 28)"
            ]
          },
          "metadata": {},
          "execution_count": 12
        }
      ],
      "source": [
        "X_train[0].shape"
      ]
    },
    {
      "cell_type": "code",
      "execution_count": 13,
      "metadata": {
        "id": "oXF0QmjfCT8i"
      },
      "outputs": [],
      "source": [
        "#it is grey scale\n",
        "#it has fix size of 28,28\n",
        "#import skimage.data\n",
        "#import skimage.transform\n",
        "\n",
        "\n",
        "#X_train = np.array([skimage.transform.resize(image, (32, 32)) for image in X_train])\n"
      ]
    },
    {
      "cell_type": "code",
      "execution_count": 14,
      "metadata": {
        "id": "bY1MNUXBDFuD",
        "colab": {
          "base_uri": "https://localhost:8080/"
        },
        "outputId": "903ba811-ca6b-4484-fa72-9fc5eb7539ae"
      },
      "outputs": [
        {
          "output_type": "execute_result",
          "data": {
            "text/plain": [
              "(60000, 28, 28)"
            ]
          },
          "metadata": {},
          "execution_count": 14
        }
      ],
      "source": [
        "import cv2\n",
        "X_train.shape"
      ]
    },
    {
      "cell_type": "code",
      "execution_count": 15,
      "metadata": {
        "id": "hJtDRUC3DH0Y"
      },
      "outputs": [],
      "source": [
        "img = np.zeros((len(X_train),28,28,3))\n",
        "for i, fi in enumerate(X_train):\n",
        "    img[i,:,:,:] = cv2.cvtColor(fi ,cv2.COLOR_GRAY2RGB)"
      ]
    },
    {
      "cell_type": "code",
      "execution_count": 16,
      "metadata": {
        "colab": {
          "base_uri": "https://localhost:8080/"
        },
        "id": "AlAAvCecGlK9",
        "outputId": "69a872d2-0a6e-4764-f57f-b6f7d687d3b6"
      },
      "outputs": [
        {
          "output_type": "execute_result",
          "data": {
            "text/plain": [
              "(60000, 28, 28, 3)"
            ]
          },
          "metadata": {},
          "execution_count": 16
        }
      ],
      "source": [
        "img.shape"
      ]
    },
    {
      "cell_type": "code",
      "execution_count": 17,
      "metadata": {
        "id": "u5I_ozPuGlK9"
      },
      "outputs": [],
      "source": [
        "import skimage.data\n",
        "import skimage.transform\n",
        "\n",
        "\n",
        "img = np.array([skimage.transform.resize(image, (32, 32)) for image in img])"
      ]
    },
    {
      "cell_type": "code",
      "execution_count": 18,
      "metadata": {
        "colab": {
          "base_uri": "https://localhost:8080/"
        },
        "id": "bRIadYohGlK-",
        "outputId": "eeeb6651-9575-4311-c454-9304af0995f6"
      },
      "outputs": [
        {
          "output_type": "execute_result",
          "data": {
            "text/plain": [
              "(60000, 32, 32, 3)"
            ]
          },
          "metadata": {},
          "execution_count": 18
        }
      ],
      "source": [
        "img.shape"
      ]
    },
    {
      "cell_type": "code",
      "execution_count": 19,
      "metadata": {
        "id": "deXZ-d_JGlK-"
      },
      "outputs": [],
      "source": [
        "img = img/255.0\n"
      ]
    },
    {
      "cell_type": "code",
      "execution_count": 20,
      "metadata": {
        "id": "ZJODMexjDPYA"
      },
      "outputs": [],
      "source": [
        "import matplotlib.pyplot as plt"
      ]
    },
    {
      "cell_type": "code",
      "execution_count": 21,
      "metadata": {
        "colab": {
          "base_uri": "https://localhost:8080/",
          "height": 282
        },
        "id": "Uf1zwTqZDV7A",
        "outputId": "c616f18e-50ca-48df-9f64-62c76cc0c052"
      },
      "outputs": [
        {
          "output_type": "execute_result",
          "data": {
            "text/plain": [
              "<matplotlib.image.AxesImage at 0x7f15c7b8dc10>"
            ]
          },
          "metadata": {},
          "execution_count": 21
        },
        {
          "output_type": "display_data",
          "data": {
            "text/plain": [
              "<Figure size 432x288 with 1 Axes>"
            ],
            "image/png": "[encoded data removed]"
          },
          "metadata": {
            "needs_background": "light"
          }
        }
      ],
      "source": [
        "plt.imshow(X_train[0])"
      ]
    },
    {
      "cell_type": "code",
      "execution_count": 22,
      "metadata": {
        "id": "i-gPU30aDX1o"
      },
      "outputs": [],
      "source": [
        "#assignment 4\n",
        "#deadline next friday\n",
        "## use this code to build a ml model based on the given instructions\n",
        "#convert all images to rgb\n",
        "#use resnet50"
      ]
    },
    {
      "cell_type": "code",
      "execution_count": 23,
      "metadata": {
        "colab": {
          "base_uri": "https://localhost:8080/"
        },
        "id": "C5ol9-jeGlK-",
        "outputId": "2ec9ff29-2374-4505-cfb3-367f55c926e2"
      },
      "outputs": [
        {
          "output_type": "stream",
          "name": "stdout",
          "text": [
            "Model: \"sequential\"\n",
            "_________________________________________________________________\n",
            " Layer (type)                Output Shape              Param #   \n",
            "=================================================================\n",
            " resnet50 (Functional)       (None, 2048)              23587712  \n",
            "                                                                 \n",
            " flatten (Flatten)           (None, 2048)              0         \n",
            "                                                                 \n",
            " dense (Dense)               (None, 512)               1049088   \n",
            "                                                                 \n",
            " dense_1 (Dense)             (None, 3)                 1539      \n",
            "                                                                 \n",
            "=================================================================\n",
            "Total params: 24,638,339\n",
            "Trainable params: 1,050,627\n",
            "Non-trainable params: 23,587,712\n",
            "_________________________________________________________________\n"
          ]
        }
      ],
      "source": [
        "model.compile(optimizer=tf.keras.optimizers.Adam(learning_rate=1e-3),\n",
        "              loss='sparse_categorical_crossentropy',\n",
        "             metrics=['accuracy'])\n",
        "model.summary()"
      ]
    },
    {
      "cell_type": "code",
      "execution_count": 24,
      "metadata": {
        "colab": {
          "base_uri": "https://localhost:8080/"
        },
        "id": "pEwCjh-gGlK_",
        "outputId": "0223563a-b5e5-4828-ce36-d6009d648bb2"
      },
      "outputs": [
        {
          "output_type": "stream",
          "name": "stdout",
          "text": [
            "Epoch 1/2\n",
            "1500/1500 [==============================] - 29s 16ms/step - loss: nan - accuracy: 0.0993 - val_loss: nan - val_accuracy: 0.1030\n",
            "Epoch 2/2\n",
            "1500/1500 [==============================] - 23s 16ms/step - loss: nan - accuracy: 0.0993 - val_loss: nan - val_accuracy: 0.1030\n"
          ]
        },
        {
          "output_type": "execute_result",
          "data": {
            "text/plain": [
              "<keras.callbacks.History at 0x7f15c7632e50>"
            ]
          },
          "metadata": {},
          "execution_count": 24
        }
      ],
      "source": [
        "model.fit(img,Y_train,epochs=2,validation_split=0.2)"
      ]
    }
  ],
  "metadata": {
    "accelerator": "GPU",
    "colab": {
      "name": "Untitled3 (2).ipynb",
      "provenance": []
    },
    "gpuClass": "standard",
    "kernelspec": {
      "display_name": "Python 3.10.2 64-bit",
      "language": "python",
      "name": "python3"
    },
    "language_info": {
      "codemirror_mode": {
        "name": "ipython",
        "version": 3
      },
      "file_extension": ".py",
      "mimetype": "text/x-python",
      "name": "python",
      "nbconvert_exporter": "python",
      "pygments_lexer": "ipython3",
      "version": "3.10.2"
    },
    "vscode": {
      "interpreter": {
        "hash": "cb63fdbfd59196df95831178f7020d149029cbf8cbc98640a97eee54a7d7b72c"
      }
    }
  },
  "nbformat": 4,
  "nbformat_minor": 0
}