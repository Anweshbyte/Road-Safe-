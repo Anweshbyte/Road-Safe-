{
 "cells": [
  {
   "cell_type": "code",
   "execution_count": 1,
   "metadata": {},
   "outputs": [],
   "source": [
    "import tensorflow as tf\n",
    "from tensorflow import keras\n",
    "import numpy as np\n",
    "import glob\n",
    "from PIL import Image\n",
    "from random import shuffle"
   ]
  },
  {
   "cell_type": "code",
   "execution_count": 2,
   "metadata": {},
   "outputs": [],
   "source": [
    "train_files = glob.glob(\"C:/Users/anwes/Downloads/archive (2)/flowers/*/**\")   #now has all image files\n",
    "shuffle(train_files)"
   ]
  },
  {
   "cell_type": "code",
   "execution_count": 3,
   "metadata": {},
   "outputs": [],
   "source": [
    "def find_flower_name(fl):\n",
    "    if(fl.find(\"astilbe\")!= -1 ):\n",
    "        return 1\n",
    "    if(fl.find(\"bellflower\")!= -1 ):\n",
    "        return 2\n",
    "    if(fl.find(\"black_eyed_susan\")!= -1 ):\n",
    "        return 3\n",
    "    if(fl.find(\"calendula\")!= -1 ):\n",
    "        return 4\n",
    "    if(fl.find(\"california_poppy\")!= -1 ):\n",
    "        return 5\n",
    "    if(fl.find(\"carnation\")!= -1 ):\n",
    "        return 6\n",
    "    if(fl.find(\"common_daisy\")!= -1 ):\n",
    "        return 7\n",
    "    if(fl.find(\"coreopsis\")!= -1 ):\n",
    "        return 8\n",
    "    if(fl.find(\"daffodil\")!=-1):\n",
    "        return 9\n",
    "    if(fl.find(\"dandelion\")!=-1):\n",
    "        return 10\n",
    "    if(fl.find(\"iris\")!=-1):\n",
    "        return 11\n",
    "    if(fl.find(\"magnolia\")!=-1):\n",
    "        return 12\n",
    "    if(fl.find(\"rose\")!=-1):\n",
    "        return 13\n",
    "    if(fl.find(\"sunflower\")!=-1):\n",
    "        return 14\n",
    "    if(fl.find(\"tulip\")!=-1):\n",
    "        return 15\n",
    "    if(fl.find(\"water_lily\")!=-1):\n",
    "        return 16"
   ]
  },
  {
   "cell_type": "code",
   "execution_count": 4,
   "metadata": {},
   "outputs": [],
   "source": [
    "X_train=np.zeros((len(train_files),28,28,1))\n",
    "Y_train=np.zeros((len(train_files),1))\n",
    "\n",
    "for i, file in enumerate(train_files):\n",
    "    #i stores index\n",
    "    #file stores image path\n",
    "    \n",
    "    img = Image.open(file)\n",
    "    \n",
    "    #resizing the image from original size to (128,128,3) so that it fits X_train array\n",
    "    img = img.resize((28,28))\n",
    "\n",
    "    #converting all RGB to grayscale #now image array dimension is (128,128)\n",
    "    img = img.convert('L')\n",
    "#     plt.imshow(img)\n",
    "    \n",
    "    \n",
    "    img_array=np.array(img) \n",
    "    img_array = img_array.reshape((28,28,1))\n",
    "#     print(img_array.shape ) \n",
    "    \n",
    "    if( img_array.shape == (28,28,1)): #checking condition so only valid dimension of image array is entered into X_train\n",
    "        X_train[i,:,:,:]=img_array\n",
    "# # #     print(X_train)\n",
    "    \n",
    "    Y_train[i] = find_flower_name(train_files[i])"
   ]
  },
  {
   "cell_type": "code",
   "execution_count": 5,
   "metadata": {},
   "outputs": [
    {
     "data": {
      "text/plain": [
       "(28, 28, 1)"
      ]
     },
     "execution_count": 5,
     "metadata": {},
     "output_type": "execute_result"
    }
   ],
   "source": [
    "X_train[0].shape"
   ]
  },
  {
   "cell_type": "code",
   "execution_count": 6,
   "metadata": {},
   "outputs": [
    {
     "data": {
      "text/plain": [
       "(15740, 1)"
      ]
     },
     "execution_count": 6,
     "metadata": {},
     "output_type": "execute_result"
    }
   ],
   "source": [
    "Y_train.shape"
   ]
  },
  {
   "cell_type": "code",
   "execution_count": 7,
   "metadata": {},
   "outputs": [],
   "source": [
    "#two types selectors functions: 1. INT  2. Choice\n",
    "def build_model(hp):  \n",
    "  model = keras.Sequential([\n",
    "    keras.layers.Conv2D(\n",
    "        filters=hp.Int('conv_1_filter', min_value=32, max_value=128, step=16),#min value of filter you want\n",
    "        kernel_size=hp.Choice('conv_1_kernel', values = [2,4]),#picks like mcq\n",
    "        activation='relu',\n",
    "        input_shape=(28,28,1)\n",
    "    ),\n",
    "      #for i in range(0,hp.Int(....)) this will also work\n",
    "    keras.layers.Conv2D(\n",
    "        filters=hp.Int('conv_2_filter', min_value=32, max_value=64, step=16),# ihave added this line extra in comparison to the old model\n",
    "        kernel_size=hp.Choice('conv_2_kernel', values = [3,5]),\n",
    "        activation='relu'\n",
    "    ),\n",
    "    keras.layers.Flatten(),\n",
    "    keras.layers.Dense(\n",
    "        units=hp.Int('dense_1_units', min_value=32, max_value=128, step=16),\n",
    "        activation='relu'\n",
    "    ),\n",
    "    keras.layers.Dense(40, activation='softmax')\n",
    "  ])\n",
    "  \n",
    "  model.compile(optimizer=keras.optimizers.Adam(hp.Choice('learning_rate', values=[1e-2, 1e-3])),\n",
    "              loss='sparse_categorical_crossentropy',\n",
    "              metrics=['accuracy'])\n",
    "  \n",
    "  return model"
   ]
  },
  {
   "cell_type": "code",
   "execution_count": 8,
   "metadata": {},
   "outputs": [],
   "source": [
    "from keras_tuner import RandomSearch\n",
    "from keras_tuner.engine.hyperparameters import HyperParameters"
   ]
  },
  {
   "cell_type": "code",
   "execution_count": 9,
   "metadata": {},
   "outputs": [
    {
     "name": "stdout",
     "output_type": "stream",
     "text": [
      "INFO:tensorflow:Reloading Oracle from existing project output\\Mnist34569Fashion\\oracle.json\n",
      "INFO:tensorflow:Reloading Tuner from output\\Mnist34569Fashion\\tuner0.json\n"
     ]
    }
   ],
   "source": [
    "tuner_search=RandomSearch(build_model,\n",
    "                          objective='val_accuracy',\n",
    "                          max_trials=5,directory='output',project_name=\"Mnist34569Fashion\")"
   ]
  },
  {
   "cell_type": "code",
   "execution_count": 10,
   "metadata": {},
   "outputs": [
    {
     "name": "stdout",
     "output_type": "stream",
     "text": [
      "Trial 5 Complete [00h 00m 48s]\n",
      "val_accuracy: 0.07369758933782578\n",
      "\n",
      "Best val_accuracy So Far: 0.20775094628334045\n",
      "Total elapsed time: 00h 02m 37s\n",
      "INFO:tensorflow:Oracle triggered exit\n"
     ]
    }
   ],
   "source": [
    "tuner_search.search(X_train,Y_train,epochs=3,validation_split=0.1)"
   ]
  },
  {
   "cell_type": "code",
   "execution_count": 11,
   "metadata": {},
   "outputs": [],
   "source": [
    "model=tuner_search.get_best_models(num_models=1)[0]"
   ]
  },
  {
   "cell_type": "code",
   "execution_count": 12,
   "metadata": {},
   "outputs": [
    {
     "name": "stdout",
     "output_type": "stream",
     "text": [
      "Epoch 4/10\n",
      "443/443 [==============================] - 17s 38ms/step - loss: 1.8144 - accuracy: 0.4403 - val_loss: 1.9555 - val_accuracy: 0.3964\n",
      "Epoch 5/10\n",
      "443/443 [==============================] - 16s 37ms/step - loss: 1.3011 - accuracy: 0.5925 - val_loss: 2.2343 - val_accuracy: 0.3672\n",
      "Epoch 6/10\n",
      "443/443 [==============================] - 16s 35ms/step - loss: 0.8163 - accuracy: 0.7394 - val_loss: 2.8462 - val_accuracy: 0.3316\n",
      "Epoch 7/10\n",
      "443/443 [==============================] - 16s 35ms/step - loss: 0.4908 - accuracy: 0.8466 - val_loss: 3.6915 - val_accuracy: 0.3100\n",
      "Epoch 8/10\n",
      "443/443 [==============================] - 16s 36ms/step - loss: 0.3246 - accuracy: 0.9027 - val_loss: 4.8499 - val_accuracy: 0.2916\n",
      "Epoch 9/10\n",
      "443/443 [==============================] - 16s 36ms/step - loss: 0.2025 - accuracy: 0.9392 - val_loss: 4.7970 - val_accuracy: 0.2719\n",
      "Epoch 10/10\n",
      "443/443 [==============================] - 16s 36ms/step - loss: 0.1621 - accuracy: 0.9524 - val_loss: 6.1159 - val_accuracy: 0.2872\n"
     ]
    },
    {
     "data": {
      "text/plain": [
       "<keras.callbacks.History at 0x297a72737c0>"
      ]
     },
     "execution_count": 12,
     "metadata": {},
     "output_type": "execute_result"
    }
   ],
   "source": [
    "model.fit(X_train,Y_train, epochs=10, validation_split=0.1, initial_epoch=3)"
   ]
  }
 ],
 "metadata": {
  "kernelspec": {
   "display_name": "Python 3.10.2 64-bit",
   "language": "python",
   "name": "python3"
  },
  "language_info": {
   "codemirror_mode": {
    "name": "ipython",
    "version": 3
   },
   "file_extension": ".py",
   "mimetype": "text/x-python",
   "name": "python",
   "nbconvert_exporter": "python",
   "pygments_lexer": "ipython3",
   "version": "3.10.2"
  },
  "orig_nbformat": 4,
  "vscode": {
   "interpreter": {
    "hash": "cb63fdbfd59196df95831178f7020d149029cbf8cbc98640a97eee54a7d7b72c"
   }
  }
 },
 "nbformat": 4,
 "nbformat_minor": 2
}
